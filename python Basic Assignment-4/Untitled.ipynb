{
 "cells": [
  {
   "cell_type": "markdown",
   "id": "700c0ca3",
   "metadata": {},
   "source": [
    "# Assignment 4"
   ]
  },
  {
   "cell_type": "markdown",
   "id": "08363153",
   "metadata": {},
   "source": [
    "1 What exactly is [  ]?"
   ]
  },
  {
   "cell_type": "markdown",
   "id": "e4734d1c",
   "metadata": {},
   "source": [
    "Ans-: The empty list represented by [] is a list that contains no items. This is similar to '' which represented an empty string"
   ]
  },
  {
   "cell_type": "markdown",
   "id": "e6691465",
   "metadata": {},
   "source": [
    "# "
   ]
  },
  {
   "cell_type": "markdown",
   "id": "8b695e5c",
   "metadata": {},
   "source": [
    "2 In a list of values stored in a variable called spam, how would you assign the value 'hello' as the third value?(Assume[2,4,6,8,10] are in spam.)"
   ]
  },
  {
   "cell_type": "markdown",
   "id": "4411f2ea",
   "metadata": {},
   "source": [
    "Ans:- spam[2] = 'hello' (Note: list follows Zero based indexing)"
   ]
  },
  {
   "cell_type": "code",
   "execution_count": 1,
   "id": "dc78e484",
   "metadata": {},
   "outputs": [
    {
     "name": "stdout",
     "output_type": "stream",
     "text": [
      "[2, 4, 6, 8, 10]\n",
      "[2, 4, 'hello', 8, 10]\n"
     ]
    }
   ],
   "source": [
    "#example\n",
    "spam=[2,4,6,8,10]\n",
    "print(spam)\n",
    "spam[2]= 'hello' # list uses zero based indexing\n",
    "print(spam)"
   ]
  },
  {
   "cell_type": "markdown",
   "id": "84dfbd4e",
   "metadata": {},
   "source": [
    "Let's pretend the spam includes the list ['a','b','c','d'] for the next three queries"
   ]
  },
  {
   "cell_type": "markdown",
   "id": "f6a055ea",
   "metadata": {},
   "source": [
    "# "
   ]
  },
  {
   "cell_type": "markdown",
   "id": "0662ad8a",
   "metadata": {},
   "source": [
    "3 what is the value of spam [int (int ('3' * 2) // 11 ) ]?"
   ]
  },
  {
   "cell_type": "markdown",
   "id": "5c86f451",
   "metadata": {},
   "source": [
    "Ans:- 'd' (Note that '3' * 2 is the string '33' which is passed to int() before being divided by 11. This eventually evaluates to 3, spam[3] is equal to d)"
   ]
  },
  {
   "cell_type": "code",
   "execution_count": 2,
   "id": "990426fb",
   "metadata": {},
   "outputs": [
    {
     "name": "stdout",
     "output_type": "stream",
     "text": [
      "spam[int(int('3'*2)//11)]-> d\n"
     ]
    }
   ],
   "source": [
    "spam = ['a','b','c','d']\n",
    "print(\"spam[int(int('3'*2)//11)]->\", spam[int(int('3'*2)//11)])"
   ]
  },
  {
   "cell_type": "markdown",
   "id": "c8971945",
   "metadata": {},
   "source": [
    "4 What is the value of spam[-1])"
   ]
  },
  {
   "cell_type": "markdown",
   "id": "8dbb4956",
   "metadata": {},
   "source": [
    "Ans-:'d' (List support negative index Hence spam [ -1] return 'd')"
   ]
  },
  {
   "cell_type": "code",
   "execution_count": 3,
   "id": "b64d7326",
   "metadata": {},
   "outputs": [
    {
     "name": "stdout",
     "output_type": "stream",
     "text": [
      "spam[-1] -> d\n"
     ]
    }
   ],
   "source": [
    "spam = ['a', 'b','c','d']\n",
    "print('spam[-1] ->' , spam[-1])"
   ]
  },
  {
   "cell_type": "markdown",
   "id": "9f76a700",
   "metadata": {},
   "source": [
    "5 What is the value of spam[:2]?"
   ]
  },
  {
   "cell_type": "markdown",
   "id": "d1a7b23a",
   "metadata": {},
   "source": [
    "Ans:- Spam [ :2] returns all elements in the list spam from .0 to 2 excluing 2"
   ]
  },
  {
   "cell_type": "code",
   "execution_count": 4,
   "id": "a54fe6d7",
   "metadata": {},
   "outputs": [
    {
     "name": "stdout",
     "output_type": "stream",
     "text": [
      "['a', 'b', 'c', 'd']\n",
      "['a', 'b']\n"
     ]
    }
   ],
   "source": [
    "# Print the value of spam\n",
    "print(spam)\n",
    "\n",
    "# Print the first two elements of spam\n",
    "print(spam[:2])\n"
   ]
  },
  {
   "cell_type": "markdown",
   "id": "7ee5203d",
   "metadata": {},
   "source": [
    "Let's pretend bacon has the list [3.14, 'cat'11,'cat' True] for the next three question"
   ]
  },
  {
   "cell_type": "markdown",
   "id": "4c33a20d",
   "metadata": {},
   "source": [
    "6 What is the value of bacon.index('cat)?\n"
   ]
  },
  {
   "cell_type": "markdown",
   "id": "847e0003",
   "metadata": {},
   "source": [
    "Anms-:The value of bacon.index('cat') is 1 (Note: index method returns the index of first occurence of 'cat')"
   ]
  },
  {
   "cell_type": "code",
   "execution_count": 5,
   "id": "4cd03033",
   "metadata": {},
   "outputs": [
    {
     "name": "stdout",
     "output_type": "stream",
     "text": [
      "bacon.index('cat') -> 1\n"
     ]
    }
   ],
   "source": [
    "bacon= [3.14, 'cat', 11, 'cat', True ]\n",
    "print(\"bacon.index('cat') ->\", bacon.index('cat'))"
   ]
  },
  {
   "cell_type": "markdown",
   "id": "3e9b6d6f",
   "metadata": {},
   "source": [
    "7 How does bacon.append(99) change the look of the list value in bacon"
   ]
  },
  {
   "cell_type": "markdown",
   "id": "f81318f4",
   "metadata": {},
   "source": [
    "Ans:- The append method adds new element to the end of the list"
   ]
  },
  {
   "cell_type": "code",
   "execution_count": 6,
   "id": "89479468",
   "metadata": {},
   "outputs": [
    {
     "name": "stdout",
     "output_type": "stream",
     "text": [
      "[3.14, 'cat', 11, 'cat', True]\n",
      "[3.14, 'cat', 11, 'cat', True, 99]\n"
     ]
    }
   ],
   "source": [
    "# Focal cell: Print the value of 'bacon', append 99 to 'bacon', and then print the updated 'bacon'.\n",
    "\n",
    "print(bacon)\n",
    "bacon.append(99)\n",
    "print(bacon)\n"
   ]
  },
  {
   "cell_type": "markdown",
   "id": "93bfd8ec",
   "metadata": {},
   "source": [
    "8 What does bacon.remove('cat') change the look of yhe list in bacon?"
   ]
  },
  {
   "cell_type": "markdown",
   "id": "bc301507",
   "metadata": {},
   "source": [
    "Ans:- the remove method removes the first occurence of the element in the list"
   ]
  },
  {
   "cell_type": "code",
   "execution_count": 7,
   "id": "407eb402",
   "metadata": {},
   "outputs": [
    {
     "name": "stdout",
     "output_type": "stream",
     "text": [
      "[3.14, 'cat', 11, 'cat', True, 99]\n",
      "[3.14, 11, 'cat', True, 99]\n"
     ]
    }
   ],
   "source": [
    "\n",
    "print(bacon)\n",
    "bacon.remove('cat')\n",
    "print(bacon)\n"
   ]
  },
  {
   "cell_type": "markdown",
   "id": "ab52426e",
   "metadata": {},
   "source": [
    "9 What are the list concatenation and list replication operations?"
   ]
  },
  {
   "cell_type": "markdown",
   "id": "d8b2a895",
   "metadata": {},
   "source": [
    "Ans:- The operator for list concatenation is +, while the operator for replication is * (this is the same as for string)"
   ]
  },
  {
   "cell_type": "code",
   "execution_count": 8,
   "id": "b697d25f",
   "metadata": {},
   "outputs": [
    {
     "name": "stdout",
     "output_type": "stream",
     "text": [
      "['ML', 'DL', 'CV', 'NLP', 'RNN', 'CNN', 'SVN']\n",
      "['RNN', 'CNN', 'SVN', 'RNN', 'CNN', 'SVN']\n"
     ]
    }
   ],
   "source": [
    "list_1 = ['ML', 'DL', 'CV', 'NLP']\n",
    "list_2 = ['RNN', 'CNN', 'SVN']\n",
    "\n",
    "print(list_1 + list_2)\n",
    "print(list_2 * 2)"
   ]
  },
  {
   "cell_type": "markdown",
   "id": "dad7b565",
   "metadata": {},
   "source": [
    "10 What is the diffrent between the list method append()and nsert()?"
   ]
  },
  {
   "cell_type": "markdown",
   "id": "10ec9d47",
   "metadata": {},
   "source": [
    "Ans-: While append() will add values only to the end of a list insert()can add them anywhere in the list"
   ]
  },
  {
   "cell_type": "code",
   "execution_count": 9,
   "id": "6aa48bfa",
   "metadata": {},
   "outputs": [
    {
     "name": "stdout",
     "output_type": "stream",
     "text": [
      "[1, 2, 3, 4, 5, 6]\n",
      "[1, 2, 'Demo', 3, 4, 5, 6]\n"
     ]
    }
   ],
   "source": [
    "#exmaples\n",
    "list = [1,2,3,4,5]\n",
    "list.append(6)\n",
    "print(list)\n",
    "list.insert(2,'Demo')\n",
    "print(list)"
   ]
  },
  {
   "cell_type": "markdown",
   "id": "50aba495",
   "metadata": {},
   "source": [
    "11 What are the two method  for remove items from a list?"
   ]
  },
  {
   "cell_type": "markdown",
   "id": "6a9fdbb3",
   "metadata": {},
   "source": [
    "Ans-:The del statement and the remove() method are two ways to remove values from a list\n",
    "\n"
   ]
  },
  {
   "cell_type": "code",
   "execution_count": 10,
   "id": "9a348dd6",
   "metadata": {},
   "outputs": [],
   "source": [
    "# Method 1: Using the remove() method\n",
    "# The remove() method removes the first occurrence of the specified item from the list.\n",
    "\n",
    "# Method 2: Using the del keyword\n",
    "# The del keyword can be used to remove an item from a list by its index.\n"
   ]
  },
  {
   "cell_type": "code",
   "execution_count": 11,
   "id": "b5e07546",
   "metadata": {},
   "outputs": [
    {
     "name": "stdout",
     "output_type": "stream",
     "text": [
      "['apple', 'cherry']\n"
     ]
    }
   ],
   "source": [
    "#Remove the \"banana\" element of the fruit list:\n",
    "\n",
    "fruits = ['apple', 'banana', 'cherry']\n",
    "fruits.remove(\"banana\")\n",
    "print(fruits)"
   ]
  },
  {
   "cell_type": "code",
   "execution_count": 12,
   "id": "33b99808",
   "metadata": {},
   "outputs": [
    {
     "name": "stdout",
     "output_type": "stream",
     "text": [
      "['banana', 'cherry']\n"
     ]
    }
   ],
   "source": [
    "#Delete the first item in a list:\n",
    "\n",
    "x = [\"apple\", \"banana\", \"cherry\"]\n",
    "\n",
    "del x[0]\n",
    "\n",
    "print(x)"
   ]
  },
  {
   "cell_type": "markdown",
   "id": "330f7ec5",
   "metadata": {},
   "source": [
    "12 Describe how  list values and string values are idetical"
   ]
  },
  {
   "cell_type": "markdown",
   "id": "e48bf02f",
   "metadata": {},
   "source": [
    "Ans-:"
   ]
  },
  {
   "cell_type": "code",
   "execution_count": 13,
   "id": "c1d21787",
   "metadata": {},
   "outputs": [
    {
     "name": "stdout",
     "output_type": "stream",
     "text": [
      "4\n",
      "2\n",
      "3\n",
      "1\n",
      "2\n",
      "3\n"
     ]
    }
   ],
   "source": [
    "# Describe how list values and string values are identical\n",
    "\n",
    "# List values and string values are both sequences of characters, but they have some differences:\n",
    "# - List values are enclosed in square brackets [] and can contain elements of different data types.\n",
    "# - String values are enclosed in quotes ('' or \"\") and consist of characters only.\n",
    "\n",
    "# Example code to demonstrate the differences:\n",
    "\n",
    "list_value = [1, 2, 3]  # Define a list value\n",
    "string_value = \"123\"    # Define a string value\n",
    "\n",
    "# Accessing elements:\n",
    "list_element = list_value[0]     # Access the first element of the list\n",
    "string_character = string_value[0]  # Access the first character of the string\n",
    "\n",
    "# Modifying elements:\n",
    "list_value[0] = 4     # Modify the first element of the list\n",
    "# string_value[0] = \"4\"  # This will raise an error because strings are immutable\n",
    "\n",
    "# Concatenation:\n",
    "concatenated_list = list_value + [5, 6]   # Concatenate the list with another list\n",
    "concatenated_string = string_value + \"45\"  # Concatenate the string with another string\n",
    "\n",
    "# Length:\n",
    "list_length = len(list_value)     # Get the length of the list\n",
    "string_length = len(string_value)  # Get the length of the string\n",
    "\n",
    "# Iteration:\n",
    "for element in list_value:     # Iterate over the elements of the list\n",
    "    print(element)\n",
    "for character in string_value:  # Iterate over the characters of the string\n",
    "    print(character)"
   ]
  },
  {
   "cell_type": "markdown",
   "id": "0f924309",
   "metadata": {},
   "source": [
    "13 What's the diffrent between tuples and list?"
   ]
  },
  {
   "cell_type": "markdown",
   "id": "b80953f4",
   "metadata": {},
   "source": [
    "Ans-: \n",
    "Lists are mutable, indexable, and slicable. They can have values added, removed, or changed.\n",
    "Tuples are immutable but indexable and slicable. The tuple values cannot be changed at all.\n",
    "Tuples are represented using parentheses () while lists use square brackets []."
   ]
  },
  {
   "cell_type": "markdown",
   "id": "2c6f26ce",
   "metadata": {},
   "source": [
    "14 How do you type a tuple value that only contains the integer 42"
   ]
  },
  {
   "cell_type": "markdown",
   "id": "a1dabba4",
   "metadata": {},
   "source": [
    "Ans-: (42) (The trailing comma is mandatory. otherwise its considered as a int by python interpreter)"
   ]
  },
  {
   "cell_type": "code",
   "execution_count": 14,
   "id": "1f5ab99f",
   "metadata": {},
   "outputs": [
    {
     "name": "stdout",
     "output_type": "stream",
     "text": [
      "<class 'int'>\n",
      "<class 'tuple'>\n"
     ]
    }
   ],
   "source": [
    "# Focal cell\n",
    "\n",
    "# Define two tuples\n",
    "tup1 = (42)\n",
    "tup2 = (42,)\n",
    "\n",
    "# Print the type of tup1\n",
    "print(type(tup1))\n",
    "\n",
    "# Print the type of tup2\n",
    "print(type(tup2))"
   ]
  },
  {
   "cell_type": "markdown",
   "id": "b971eef6",
   "metadata": {},
   "source": [
    "15 How do you get a list value's tuple form? How do you get a tuple value's list form?"
   ]
  },
  {
   "cell_type": "markdown",
   "id": "aca41af1",
   "metadata": {},
   "source": [
    "Ans-: The tuple() and list() functions are used to convert a list to a tuple and vice versa\n"
   ]
  },
  {
   "cell_type": "markdown",
   "id": "e375e30d",
   "metadata": {},
   "source": [
    "16 Variable that \"contain\" list values are not necessarily list themselve, What do you they contain?"
   ]
  },
  {
   "cell_type": "markdown",
   "id": "0fd14966",
   "metadata": {},
   "source": [
    "Ans-:They contain refrences to lit values."
   ]
  },
  {
   "cell_type": "markdown",
   "id": "25277203",
   "metadata": {},
   "source": [
    "17 How do you distinguish between copy.copy() and copy.deepcopy()?"
   ]
  },
  {
   "cell_type": "markdown",
   "id": "229d62b6",
   "metadata": {},
   "source": [
    "Ans-: The copy.copy() function will do a shallow copy of a list while the copy.deepcopy() function will do a deep copy of a list. That is only copy.deepcopy() will duplicate any list inside the list"
   ]
  }
 ],
 "metadata": {
  "kernelspec": {
   "display_name": "Python 3 (ipykernel)",
   "language": "python",
   "name": "python3"
  },
  "language_info": {
   "codemirror_mode": {
    "name": "ipython",
    "version": 3
   },
   "file_extension": ".py",
   "mimetype": "text/x-python",
   "name": "python",
   "nbconvert_exporter": "python",
   "pygments_lexer": "ipython3",
   "version": "3.9.12"
  }
 },
 "nbformat": 4,
 "nbformat_minor": 5
}
